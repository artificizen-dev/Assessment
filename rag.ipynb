{
  "cells": [
    {
      "cell_type": "code",
      "execution_count": null,
      "metadata": {
        "id": "oJSse-2dRmP0"
      },
      "outputs": [],
      "source": [
        "!pip install -r requirements.txt\n",
        "\n"
      ]
    },
    {
      "cell_type": "code",
      "execution_count": null,
      "metadata": {
        "id": "dTqby1HwXM1X"
      },
      "outputs": [],
      "source": [
        "!huggingface-cli download TheBloke/Mistral-7B-Instruct-v0.1-GGUF mistral-7b-instruct-v0.1.Q4_K_M.gguf --local-dir ./models --local-dir-use-symlinks False\n",
        "\n",
        "\n"
      ]
    },
    {
      "cell_type": "code",
      "execution_count": null,
      "metadata": {
        "id": "HrW0psARYeL1"
      },
      "outputs": [],
      "source": [
        "!python download_model_minilm.py\n"
      ]
    },
    {
      "cell_type": "code",
      "execution_count": null,
      "metadata": {
        "id": "fHgNGCpNYgMO"
      },
      "outputs": [],
      "source": [
        "!python document_processor.py"
      ]
    },
    {
      "cell_type": "code",
      "execution_count": null,
      "metadata": {
        "id": "5cn4IttHYin9"
      },
      "outputs": [],
      "source": [
        "!python retrieval.py\n",
        "#please enter \"exit\" in it."
      ]
    },
    {
      "cell_type": "code",
      "execution_count": null,
      "metadata": {
        "id": "2_aTNI8kIXkH"
      },
      "outputs": [],
      "source": [
        "from huggingface_hub import login\n",
        "\n",
        "#write here your hugging face token\n",
        "# you can use this link to get more information https://huggingface.co/docs/hub/security-tokens\n",
        "# please create a \" write \" token\n",
        "huggingface_token = \"hf_xxxxxxxxxxxxxxxxxxxxxxx\"\n",
        "login(token=huggingface_token)\n",
        "\n",
        "print(\"successfully logged in to hugging face\")\n"
      ]
    },
    {
      "cell_type": "code",
      "execution_count": null,
      "metadata": {
        "id": "VPQdfS32YYPH"
      },
      "outputs": [],
      "source": [
        "!python response_generator.py"
      ]
    }
  ],
  "metadata": {
    "accelerator": "GPU",
    "colab": {
      "gpuType": "T4",
      "provenance": []
    },
    "kernelspec": {
      "display_name": "Python 3",
      "name": "python3"
    },
    "language_info": {
      "name": "python"
    }
  },
  "nbformat": 4,
  "nbformat_minor": 0
}
